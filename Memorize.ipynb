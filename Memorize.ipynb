{
 "cells": [
  {
   "cell_type": "code",
   "execution_count": 1,
   "metadata": {
    "collapsed": true
   },
   "outputs": [],
   "source": [
    "def memorize(f):\n",
    "    memo = {}\n",
    "\n",
    "    def helper(*args, **kargs):\n",
    "        k = tuple(args)\n",
    "        if k not in memo:\n",
    "            memo[k] = f(*args, **kargs)\n",
    "        return memo[k]\n",
    "\n",
    "    return helper"
   ]
  },
  {
   "cell_type": "code",
   "execution_count": 2,
   "metadata": {
    "collapsed": false
   },
   "outputs": [
    {
     "name": "stdout",
     "output_type": "stream",
     "text": [
      "7\n"
     ]
    }
   ],
   "source": [
    "@memorize\n",
    "def ladder(n, m=3):\n",
    "    if n == 0:\n",
    "        return 1\n",
    "    elif n == 1 or n == -1:\n",
    "        return 0\n",
    "    else:\n",
    "        return ladder(n - 2, 1) + ladder(n - 3, 1)\n",
    "\n",
    "\n",
    "print(ladder(10, m=1))"
   ]
  },
  {
   "cell_type": "code",
   "execution_count": null,
   "metadata": {
    "collapsed": true
   },
   "outputs": [],
   "source": []
  }
 ],
 "metadata": {
  "kernelspec": {
   "display_name": "Python 2",
   "language": "python",
   "name": "python2"
  },
  "language_info": {
   "codemirror_mode": {
    "name": "ipython",
    "version": 2
   },
   "file_extension": ".py",
   "mimetype": "text/x-python",
   "name": "python",
   "nbconvert_exporter": "python",
   "pygments_lexer": "ipython2",
   "version": "2.7.13"
  }
 },
 "nbformat": 4,
 "nbformat_minor": 2
}
