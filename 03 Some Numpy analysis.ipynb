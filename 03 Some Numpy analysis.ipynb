{
 "cells": [
  {
   "cell_type": "code",
   "execution_count": 29,
   "metadata": {
    "collapsed": true
   },
   "outputs": [],
   "source": [
    "import numpy as np"
   ]
  },
  {
   "cell_type": "code",
   "execution_count": 30,
   "metadata": {
    "collapsed": false
   },
   "outputs": [
    {
     "name": "stdout",
     "output_type": "stream",
     "text": [
      "(<type 'numpy.ndarray'>, array([ -1.00000000e+01,  -9.96000000e+00,  -9.92000000e+00,\n",
      "        -9.88000000e+00,  -9.84000000e+00,  -9.80000000e+00,\n",
      "        -9.76000000e+00,  -9.72000000e+00,  -9.68000000e+00,\n",
      "        -9.64000000e+00,  -9.60000000e+00,  -9.56000000e+00,\n",
      "        -9.52000000e+00,  -9.48000000e+00,  -9.44000000e+00,\n",
      "        -9.40000000e+00,  -9.36000000e+00,  -9.32000000e+00,\n",
      "        -9.28000000e+00,  -9.24000000e+00,  -9.20000000e+00,\n",
      "        -9.16000000e+00,  -9.12000000e+00,  -9.08000000e+00,\n",
      "        -9.04000000e+00,  -9.00000000e+00,  -8.96000000e+00,\n",
      "        -8.92000000e+00,  -8.88000000e+00,  -8.84000000e+00,\n",
      "        -8.80000000e+00,  -8.76000000e+00,  -8.72000000e+00,\n",
      "        -8.68000000e+00,  -8.64000000e+00,  -8.60000000e+00,\n",
      "        -8.56000000e+00,  -8.52000000e+00,  -8.48000000e+00,\n",
      "        -8.44000000e+00,  -8.40000000e+00,  -8.36000000e+00,\n",
      "        -8.32000000e+00,  -8.28000000e+00,  -8.24000000e+00,\n",
      "        -8.20000000e+00,  -8.16000000e+00,  -8.12000000e+00,\n",
      "        -8.08000000e+00,  -8.04000000e+00,  -8.00000000e+00,\n",
      "        -7.96000000e+00,  -7.92000000e+00,  -7.88000000e+00,\n",
      "        -7.84000000e+00,  -7.80000000e+00,  -7.76000000e+00,\n",
      "        -7.72000000e+00,  -7.68000000e+00,  -7.64000000e+00,\n",
      "        -7.60000000e+00,  -7.56000000e+00,  -7.52000000e+00,\n",
      "        -7.48000000e+00,  -7.44000000e+00,  -7.40000000e+00,\n",
      "        -7.36000000e+00,  -7.32000000e+00,  -7.28000000e+00,\n",
      "        -7.24000000e+00,  -7.20000000e+00,  -7.16000000e+00,\n",
      "        -7.12000000e+00,  -7.08000000e+00,  -7.04000000e+00,\n",
      "        -7.00000000e+00,  -6.96000000e+00,  -6.92000000e+00,\n",
      "        -6.88000000e+00,  -6.84000000e+00,  -6.80000000e+00,\n",
      "        -6.76000000e+00,  -6.72000000e+00,  -6.68000000e+00,\n",
      "        -6.64000000e+00,  -6.60000000e+00,  -6.56000000e+00,\n",
      "        -6.52000000e+00,  -6.48000000e+00,  -6.44000000e+00,\n",
      "        -6.40000000e+00,  -6.36000000e+00,  -6.32000000e+00,\n",
      "        -6.28000000e+00,  -6.24000000e+00,  -6.20000000e+00,\n",
      "        -6.16000000e+00,  -6.12000000e+00,  -6.08000000e+00,\n",
      "        -6.04000000e+00,  -6.00000000e+00,  -5.96000000e+00,\n",
      "        -5.92000000e+00,  -5.88000000e+00,  -5.84000000e+00,\n",
      "        -5.80000000e+00,  -5.76000000e+00,  -5.72000000e+00,\n",
      "        -5.68000000e+00,  -5.64000000e+00,  -5.60000000e+00,\n",
      "        -5.56000000e+00,  -5.52000000e+00,  -5.48000000e+00,\n",
      "        -5.44000000e+00,  -5.40000000e+00,  -5.36000000e+00,\n",
      "        -5.32000000e+00,  -5.28000000e+00,  -5.24000000e+00,\n",
      "        -5.20000000e+00,  -5.16000000e+00,  -5.12000000e+00,\n",
      "        -5.08000000e+00,  -5.04000000e+00,  -5.00000000e+00,\n",
      "        -4.96000000e+00,  -4.92000000e+00,  -4.88000000e+00,\n",
      "        -4.84000000e+00,  -4.80000000e+00,  -4.76000000e+00,\n",
      "        -4.72000000e+00,  -4.68000000e+00,  -4.64000000e+00,\n",
      "        -4.60000000e+00,  -4.56000000e+00,  -4.52000000e+00,\n",
      "        -4.48000000e+00,  -4.44000000e+00,  -4.40000000e+00,\n",
      "        -4.36000000e+00,  -4.32000000e+00,  -4.28000000e+00,\n",
      "        -4.24000000e+00,  -4.20000000e+00,  -4.16000000e+00,\n",
      "        -4.12000000e+00,  -4.08000000e+00,  -4.04000000e+00,\n",
      "        -4.00000000e+00,  -3.96000000e+00,  -3.92000000e+00,\n",
      "        -3.88000000e+00,  -3.84000000e+00,  -3.80000000e+00,\n",
      "        -3.76000000e+00,  -3.72000000e+00,  -3.68000000e+00,\n",
      "        -3.64000000e+00,  -3.60000000e+00,  -3.56000000e+00,\n",
      "        -3.52000000e+00,  -3.48000000e+00,  -3.44000000e+00,\n",
      "        -3.40000000e+00,  -3.36000000e+00,  -3.32000000e+00,\n",
      "        -3.28000000e+00,  -3.24000000e+00,  -3.20000000e+00,\n",
      "        -3.16000000e+00,  -3.12000000e+00,  -3.08000000e+00,\n",
      "        -3.04000000e+00,  -3.00000000e+00,  -2.96000000e+00,\n",
      "        -2.92000000e+00,  -2.88000000e+00,  -2.84000000e+00,\n",
      "        -2.80000000e+00,  -2.76000000e+00,  -2.72000000e+00,\n",
      "        -2.68000000e+00,  -2.64000000e+00,  -2.60000000e+00,\n",
      "        -2.56000000e+00,  -2.52000000e+00,  -2.48000000e+00,\n",
      "        -2.44000000e+00,  -2.40000000e+00,  -2.36000000e+00,\n",
      "        -2.32000000e+00,  -2.28000000e+00,  -2.24000000e+00,\n",
      "        -2.20000000e+00,  -2.16000000e+00,  -2.12000000e+00,\n",
      "        -2.08000000e+00,  -2.04000000e+00,  -2.00000000e+00,\n",
      "        -1.96000000e+00,  -1.92000000e+00,  -1.88000000e+00,\n",
      "        -1.84000000e+00,  -1.80000000e+00,  -1.76000000e+00,\n",
      "        -1.72000000e+00,  -1.68000000e+00,  -1.64000000e+00,\n",
      "        -1.60000000e+00,  -1.56000000e+00,  -1.52000000e+00,\n",
      "        -1.48000000e+00,  -1.44000000e+00,  -1.40000000e+00,\n",
      "        -1.36000000e+00,  -1.32000000e+00,  -1.28000000e+00,\n",
      "        -1.24000000e+00,  -1.20000000e+00,  -1.16000000e+00,\n",
      "        -1.12000000e+00,  -1.08000000e+00,  -1.04000000e+00,\n",
      "        -1.00000000e+00,  -9.60000000e-01,  -9.20000000e-01,\n",
      "        -8.80000000e-01,  -8.40000000e-01,  -8.00000000e-01,\n",
      "        -7.60000000e-01,  -7.20000000e-01,  -6.80000000e-01,\n",
      "        -6.40000000e-01,  -6.00000000e-01,  -5.60000000e-01,\n",
      "        -5.20000000e-01,  -4.80000000e-01,  -4.40000000e-01,\n",
      "        -4.00000000e-01,  -3.60000000e-01,  -3.20000000e-01,\n",
      "        -2.80000000e-01,  -2.40000000e-01,  -2.00000000e-01,\n",
      "        -1.60000000e-01,  -1.20000000e-01,  -8.00000000e-02,\n",
      "        -4.00000000e-02,  -2.13162821e-13,   4.00000000e-02,\n",
      "         8.00000000e-02,   1.20000000e-01,   1.60000000e-01,\n",
      "         2.00000000e-01,   2.40000000e-01,   2.80000000e-01,\n",
      "         3.20000000e-01,   3.60000000e-01,   4.00000000e-01,\n",
      "         4.40000000e-01,   4.80000000e-01,   5.20000000e-01,\n",
      "         5.60000000e-01,   6.00000000e-01,   6.40000000e-01,\n",
      "         6.80000000e-01,   7.20000000e-01,   7.60000000e-01,\n",
      "         8.00000000e-01,   8.40000000e-01,   8.80000000e-01,\n",
      "         9.20000000e-01,   9.60000000e-01,   1.00000000e+00,\n",
      "         1.04000000e+00,   1.08000000e+00,   1.12000000e+00,\n",
      "         1.16000000e+00,   1.20000000e+00,   1.24000000e+00,\n",
      "         1.28000000e+00,   1.32000000e+00,   1.36000000e+00,\n",
      "         1.40000000e+00,   1.44000000e+00,   1.48000000e+00,\n",
      "         1.52000000e+00,   1.56000000e+00,   1.60000000e+00,\n",
      "         1.64000000e+00,   1.68000000e+00,   1.72000000e+00,\n",
      "         1.76000000e+00,   1.80000000e+00,   1.84000000e+00,\n",
      "         1.88000000e+00,   1.92000000e+00,   1.96000000e+00,\n",
      "         2.00000000e+00,   2.04000000e+00,   2.08000000e+00,\n",
      "         2.12000000e+00,   2.16000000e+00,   2.20000000e+00,\n",
      "         2.24000000e+00,   2.28000000e+00,   2.32000000e+00,\n",
      "         2.36000000e+00,   2.40000000e+00,   2.44000000e+00,\n",
      "         2.48000000e+00,   2.52000000e+00,   2.56000000e+00,\n",
      "         2.60000000e+00,   2.64000000e+00,   2.68000000e+00,\n",
      "         2.72000000e+00,   2.76000000e+00,   2.80000000e+00,\n",
      "         2.84000000e+00,   2.88000000e+00,   2.92000000e+00,\n",
      "         2.96000000e+00,   3.00000000e+00,   3.04000000e+00,\n",
      "         3.08000000e+00,   3.12000000e+00,   3.16000000e+00,\n",
      "         3.20000000e+00,   3.24000000e+00,   3.28000000e+00,\n",
      "         3.32000000e+00,   3.36000000e+00,   3.40000000e+00,\n",
      "         3.44000000e+00,   3.48000000e+00,   3.52000000e+00,\n",
      "         3.56000000e+00,   3.60000000e+00,   3.64000000e+00,\n",
      "         3.68000000e+00,   3.72000000e+00,   3.76000000e+00,\n",
      "         3.80000000e+00,   3.84000000e+00,   3.88000000e+00,\n",
      "         3.92000000e+00,   3.96000000e+00,   4.00000000e+00,\n",
      "         4.04000000e+00,   4.08000000e+00,   4.12000000e+00,\n",
      "         4.16000000e+00,   4.20000000e+00,   4.24000000e+00,\n",
      "         4.28000000e+00,   4.32000000e+00,   4.36000000e+00,\n",
      "         4.40000000e+00,   4.44000000e+00,   4.48000000e+00,\n",
      "         4.52000000e+00,   4.56000000e+00,   4.60000000e+00,\n",
      "         4.64000000e+00,   4.68000000e+00,   4.72000000e+00,\n",
      "         4.76000000e+00,   4.80000000e+00,   4.84000000e+00,\n",
      "         4.88000000e+00,   4.92000000e+00,   4.96000000e+00,\n",
      "         5.00000000e+00,   5.04000000e+00,   5.08000000e+00,\n",
      "         5.12000000e+00,   5.16000000e+00,   5.20000000e+00,\n",
      "         5.24000000e+00,   5.28000000e+00,   5.32000000e+00,\n",
      "         5.36000000e+00,   5.40000000e+00,   5.44000000e+00,\n",
      "         5.48000000e+00,   5.52000000e+00,   5.56000000e+00,\n",
      "         5.60000000e+00,   5.64000000e+00,   5.68000000e+00,\n",
      "         5.72000000e+00,   5.76000000e+00,   5.80000000e+00,\n",
      "         5.84000000e+00,   5.88000000e+00,   5.92000000e+00,\n",
      "         5.96000000e+00,   6.00000000e+00,   6.04000000e+00,\n",
      "         6.08000000e+00,   6.12000000e+00,   6.16000000e+00,\n",
      "         6.20000000e+00,   6.24000000e+00,   6.28000000e+00,\n",
      "         6.32000000e+00,   6.36000000e+00,   6.40000000e+00,\n",
      "         6.44000000e+00,   6.48000000e+00,   6.52000000e+00,\n",
      "         6.56000000e+00,   6.60000000e+00,   6.64000000e+00,\n",
      "         6.68000000e+00,   6.72000000e+00,   6.76000000e+00,\n",
      "         6.80000000e+00,   6.84000000e+00,   6.88000000e+00,\n",
      "         6.92000000e+00,   6.96000000e+00,   7.00000000e+00,\n",
      "         7.04000000e+00,   7.08000000e+00,   7.12000000e+00,\n",
      "         7.16000000e+00,   7.20000000e+00,   7.24000000e+00,\n",
      "         7.28000000e+00,   7.32000000e+00,   7.36000000e+00,\n",
      "         7.40000000e+00,   7.44000000e+00,   7.48000000e+00,\n",
      "         7.52000000e+00,   7.56000000e+00,   7.60000000e+00,\n",
      "         7.64000000e+00,   7.68000000e+00,   7.72000000e+00,\n",
      "         7.76000000e+00,   7.80000000e+00,   7.84000000e+00,\n",
      "         7.88000000e+00,   7.92000000e+00,   7.96000000e+00,\n",
      "         8.00000000e+00,   8.04000000e+00,   8.08000000e+00,\n",
      "         8.12000000e+00,   8.16000000e+00,   8.20000000e+00,\n",
      "         8.24000000e+00,   8.28000000e+00,   8.32000000e+00,\n",
      "         8.36000000e+00,   8.40000000e+00,   8.44000000e+00,\n",
      "         8.48000000e+00,   8.52000000e+00,   8.56000000e+00,\n",
      "         8.60000000e+00,   8.64000000e+00,   8.68000000e+00,\n",
      "         8.72000000e+00,   8.76000000e+00,   8.80000000e+00,\n",
      "         8.84000000e+00,   8.88000000e+00,   8.92000000e+00,\n",
      "         8.96000000e+00,   9.00000000e+00,   9.04000000e+00,\n",
      "         9.08000000e+00,   9.12000000e+00,   9.16000000e+00,\n",
      "         9.20000000e+00,   9.24000000e+00,   9.28000000e+00,\n",
      "         9.32000000e+00,   9.36000000e+00,   9.40000000e+00,\n",
      "         9.44000000e+00,   9.48000000e+00,   9.52000000e+00,\n",
      "         9.56000000e+00,   9.60000000e+00,   9.64000000e+00,\n",
      "         9.68000000e+00,   9.72000000e+00,   9.76000000e+00,\n",
      "         9.80000000e+00,   9.84000000e+00,   9.88000000e+00,\n",
      "         9.92000000e+00,   9.96000000e+00]))\n",
      "(<type 'numpy.ndarray'>, array([  6.88754397e+00,   7.13339699e+00,   6.80691982e+00,\n",
      "         6.87604572e+00,   6.85984314e+00,   6.86632281e+00,\n",
      "         7.02685428e+00,   6.97550197e+00,   6.82014588e+00,\n",
      "         6.59779166e+00,   6.84455960e+00,   6.82790499e+00,\n",
      "         6.90426425e+00,   6.93016042e+00,   6.85920347e+00,\n",
      "         6.61175196e+00,   6.84511373e+00,   6.66094851e+00,\n",
      "         6.47229670e+00,   6.47179734e+00,   6.58900546e+00,\n",
      "         6.50716809e+00,   6.70995447e+00,   6.49492958e+00,\n",
      "         6.39964055e+00,   6.43452148e+00,   6.63470136e+00,\n",
      "         6.42767637e+00,   6.31619310e+00,   6.25890281e+00,\n",
      "         6.52159335e+00,   6.36642930e+00,   6.50586582e+00,\n",
      "         6.35741819e+00,   6.17998429e+00,   6.25042923e+00,\n",
      "         6.34547447e+00,   6.08186258e+00,   6.28603847e+00,\n",
      "         6.11806057e+00,   6.16592285e+00,   6.13584070e+00,\n",
      "         6.07914602e+00,   6.02532471e+00,   6.31756651e+00,\n",
      "         6.07183564e+00,   6.14368209e+00,   6.15257505e+00,\n",
      "         5.91991318e+00,   5.97086763e+00,   6.08191264e+00,\n",
      "         6.19617971e+00,   5.92609534e+00,   5.96842505e+00,\n",
      "         6.05230572e+00,   5.83549874e+00,   5.77534699e+00,\n",
      "         5.76534674e+00,   5.94704735e+00,   5.79444874e+00,\n",
      "         5.83057843e+00,   5.71584471e+00,   5.68022761e+00,\n",
      "         5.81798867e+00,   5.57112329e+00,   5.72175101e+00,\n",
      "         5.77138212e+00,   5.62844664e+00,   5.58138182e+00,\n",
      "         5.45827923e+00,   5.52949779e+00,   5.60509949e+00,\n",
      "         5.55302956e+00,   5.41188839e+00,   5.62104554e+00,\n",
      "         5.62448000e+00,   5.49191323e+00,   5.56358507e+00,\n",
      "         5.48550278e+00,   5.47715110e+00,   5.50434435e+00,\n",
      "         5.44668438e+00,   5.43824642e+00,   5.36728913e+00,\n",
      "         5.28030263e+00,   5.13403600e+00,   5.50576175e+00,\n",
      "         5.19635511e+00,   5.16166482e+00,   5.10996205e+00,\n",
      "         5.30617751e+00,   5.24619395e+00,   5.09893209e+00,\n",
      "         5.04421982e+00,   5.11872352e+00,   5.15170844e+00,\n",
      "         4.98024970e+00,   5.01865009e+00,   4.94987707e+00,\n",
      "         4.99289573e+00,   4.74461047e+00,   5.12077157e+00,\n",
      "         5.04665120e+00,   4.88534338e+00,   5.05975902e+00,\n",
      "         4.85032819e+00,   4.91312917e+00,   4.96655343e+00,\n",
      "         5.06365487e+00,   4.61375097e+00,   4.91929398e+00,\n",
      "         4.75512383e+00,   4.87467812e+00,   4.67381189e+00,\n",
      "         4.66886949e+00,   4.78158651e+00,   4.57986836e+00,\n",
      "         4.70526708e+00,   4.50068390e+00,   4.56576464e+00,\n",
      "         4.56414647e+00,   4.68971967e+00,   4.53456911e+00,\n",
      "         4.53625269e+00,   4.57464302e+00,   4.36911715e+00,\n",
      "         4.52419875e+00,   4.24884977e+00,   4.31682868e+00,\n",
      "         4.34308457e+00,   4.45895283e+00,   4.43368649e+00,\n",
      "         4.48465577e+00,   4.32297820e+00,   4.18367747e+00,\n",
      "         4.31237511e+00,   4.27346508e+00,   4.23000334e+00,\n",
      "         4.19073546e+00,   4.02677070e+00,   4.10340756e+00,\n",
      "         4.04930319e+00,   4.13707063e+00,   4.15816907e+00,\n",
      "         4.09434541e+00,   4.16783704e+00,   3.98137457e+00,\n",
      "         4.09125101e+00,   3.98534178e+00,   3.94835169e+00,\n",
      "         4.01459873e+00,   3.90049739e+00,   3.98369742e+00,\n",
      "         3.75221457e+00,   3.95478234e+00,   3.79765599e+00,\n",
      "         3.83808936e+00,   3.78360415e+00,   3.89002959e+00,\n",
      "         3.80427318e+00,   4.01147283e+00,   3.70085282e+00,\n",
      "         3.67961569e+00,   3.67965835e+00,   3.63471494e+00,\n",
      "         3.58877891e+00,   3.70883829e+00,   3.58972518e+00,\n",
      "         3.62197739e+00,   3.68534371e+00,   3.68466295e+00,\n",
      "         3.60952799e+00,   3.58117758e+00,   3.57044761e+00,\n",
      "         3.51183179e+00,   3.56907933e+00,   3.59047138e+00,\n",
      "         3.39612187e+00,   3.53255185e+00,   3.53569489e+00,\n",
      "         3.42600885e+00,   3.36612842e+00,   3.41263047e+00,\n",
      "         3.41652687e+00,   3.19757573e+00,   3.24902078e+00,\n",
      "         3.24614977e+00,   3.28610452e+00,   3.25516182e+00,\n",
      "         3.22180562e+00,   3.15475914e+00,   3.29756423e+00,\n",
      "         3.08518084e+00,   3.11222194e+00,   3.12493791e+00,\n",
      "         3.09290849e+00,   3.07355436e+00,   3.04066496e+00,\n",
      "         3.09405346e+00,   2.88638383e+00,   3.17789137e+00,\n",
      "         2.85907217e+00,   3.04218900e+00,   2.92418170e+00,\n",
      "         2.98086169e+00,   2.80288137e+00,   2.85638466e+00,\n",
      "         2.94948206e+00,   2.93547703e+00,   2.70753138e+00,\n",
      "         2.79271127e+00,   2.74406375e+00,   2.81876606e+00,\n",
      "         2.81656127e+00,   2.70916321e+00,   2.67127836e+00,\n",
      "         2.58947571e+00,   2.67580185e+00,   2.65918209e+00,\n",
      "         2.85983440e+00,   2.66472891e+00,   2.35379445e+00,\n",
      "         2.65973003e+00,   2.46886006e+00,   2.50348016e+00,\n",
      "         2.45790244e+00,   2.34096761e+00,   2.30305465e+00,\n",
      "         2.46997042e+00,   2.30227093e+00,   2.21876304e+00,\n",
      "         2.29959592e+00,   2.48098651e+00,   2.35246113e+00,\n",
      "         2.26751625e+00,   2.23477448e+00,   2.32845394e+00,\n",
      "         2.44185999e+00,   2.33588686e+00,   2.35457666e+00,\n",
      "         2.37013364e+00,   2.13268906e+00,   2.13931249e+00,\n",
      "         2.08558013e+00,   2.01852703e+00,   2.27821366e+00,\n",
      "         1.98336865e+00,   2.08397107e+00,   1.95577901e+00,\n",
      "         1.99314971e+00,   1.98219083e+00,   1.94740771e+00,\n",
      "         1.75053605e+00,   1.69372959e+00,   1.97105859e+00,\n",
      "         1.79727849e+00,   1.88237682e+00,   1.88263115e+00,\n",
      "         1.77124701e+00,   1.90665067e+00,   1.90556702e+00,\n",
      "         1.78988734e+00,   1.81803140e+00,   1.84607650e+00,\n",
      "         1.70855745e+00,   1.82504525e+00,   1.85322597e+00,\n",
      "         1.73838333e+00,   1.66535069e+00,   1.32582535e+00,\n",
      "         1.69523599e+00,   1.37005644e+00,   1.56338852e+00,\n",
      "         1.80468048e+00,   1.56101404e+00,   1.54387963e+00,\n",
      "         1.60387922e+00,   1.49840904e+00,   1.23731780e+00,\n",
      "         1.36027633e+00,   1.28194768e+00,   1.34321961e+00,\n",
      "         1.23968468e+00,   1.40789313e+00,   1.40304412e+00,\n",
      "         1.34879398e+00,   1.14813164e+00,   9.79368459e-01,\n",
      "         1.33795118e+00,   1.13298368e+00,   1.34904115e+00,\n",
      "         1.15914394e+00,   1.14193062e+00,   1.00108001e+00,\n",
      "         1.14858698e+00,   1.01370794e+00,   1.18863089e+00,\n",
      "         9.58466830e-01,   1.18955794e+00,   8.31016759e-01,\n",
      "         1.14152044e+00,   1.02829340e+00,   7.28940434e-01,\n",
      "         1.02411534e+00,   8.68009725e-01,   8.39574901e-01,\n",
      "         8.31112430e-01,   8.23800300e-01,   7.47426371e-01,\n",
      "         7.14166184e-01,   8.07608813e-01,   6.37839620e-01,\n",
      "         8.88344155e-01,   7.07026732e-01,   8.15427367e-01,\n",
      "         6.74373079e-01,   5.17792982e-01,   6.81761331e-01,\n",
      "         5.44516697e-01,   6.06248891e-01,   6.27649888e-01,\n",
      "         6.26488807e-01,   5.94570599e-01,   5.34693526e-01,\n",
      "         4.62803071e-01,   4.48357641e-01,   6.76068643e-01,\n",
      "         4.88379370e-01,   5.32633372e-01,   4.49399591e-01,\n",
      "         5.97331349e-01,   2.65327262e-01,   5.38697782e-01,\n",
      "         1.71189996e-01,   2.70993602e-01,   1.60425005e-01,\n",
      "         3.50465808e-01,   1.39581128e-01,   2.30970528e-01,\n",
      "         3.23396410e-01,   2.93108033e-01,   1.78062663e-01,\n",
      "         9.09866825e-02,   3.57306696e-02,   1.41590464e-01,\n",
      "         1.45182497e-01,  -7.22358478e-02,   8.38310338e-02,\n",
      "         6.73510080e-02,  -4.15288336e-02,  -6.96916693e-03,\n",
      "        -1.11354508e-02,   8.08369472e-02,  -2.13925280e-01,\n",
      "        -1.30529385e-01,  -2.48419017e-01,  -1.27952752e-01,\n",
      "        -1.27391612e-01,  -1.22936622e-01,  -2.69988223e-01,\n",
      "        -1.05489942e-01,  -2.42497701e-01,  -3.92786381e-01,\n",
      "        -1.24490659e-01,  -1.35904761e-01,  -3.39487732e-01,\n",
      "        -3.61949311e-01,  -2.98620434e-01,  -3.76072711e-01,\n",
      "        -3.14642477e-01,  -4.52402722e-01,  -5.82925335e-01,\n",
      "        -3.51161216e-01,  -4.06913289e-01,  -3.34822623e-01,\n",
      "        -3.95310645e-01,  -4.25402326e-01,  -4.63896297e-01,\n",
      "        -7.56903458e-01,  -7.61948441e-01,  -7.68829789e-01,\n",
      "        -6.80591495e-01,  -5.97986852e-01,  -7.66023948e-01,\n",
      "        -6.55382498e-01,  -5.97880303e-01,  -7.29580932e-01,\n",
      "        -8.23712552e-01,  -6.68829301e-01,  -8.42665703e-01,\n",
      "        -8.84492846e-01,  -6.97932627e-01,  -7.92006590e-01,\n",
      "        -7.55688235e-01,  -8.94107166e-01,  -1.13068955e+00,\n",
      "        -9.58634504e-01,  -1.05708249e+00,  -9.97863481e-01,\n",
      "        -9.67385687e-01,  -1.02177938e+00,  -1.07321332e+00,\n",
      "        -1.11915782e+00,  -9.21457797e-01,  -1.09577372e+00,\n",
      "        -1.19257929e+00,  -1.17572328e+00,  -1.11757416e+00,\n",
      "        -1.15916992e+00,  -1.05728359e+00,  -1.13303230e+00,\n",
      "        -1.18127530e+00,  -1.22509692e+00,  -1.30461998e+00,\n",
      "        -1.20323961e+00,  -1.32764863e+00,  -1.39033678e+00,\n",
      "        -1.35873627e+00,  -1.32857784e+00,  -1.33119576e+00,\n",
      "        -1.30969793e+00,  -1.42671638e+00,  -1.51785894e+00,\n",
      "        -1.65540680e+00,  -1.48386127e+00,  -1.50266310e+00,\n",
      "        -1.37800496e+00,  -1.48790024e+00,  -1.56312698e+00,\n",
      "        -1.51486258e+00,  -1.63479182e+00,  -1.50998844e+00,\n",
      "        -1.60437282e+00,  -1.64095260e+00,  -1.58575957e+00,\n",
      "        -1.73840792e+00,  -1.66665751e+00,  -1.61408974e+00,\n",
      "        -1.72845367e+00,  -1.86537566e+00,  -1.73637209e+00,\n",
      "        -1.96387102e+00,  -1.78467199e+00,  -1.82046388e+00,\n",
      "        -1.99597760e+00,  -1.93041263e+00,  -1.86705036e+00,\n",
      "        -1.99469657e+00,  -2.12036202e+00,  -1.91148120e+00,\n",
      "        -1.93344805e+00,  -2.01422004e+00,  -1.94501723e+00,\n",
      "        -2.23602992e+00,  -2.13241044e+00,  -2.25457950e+00,\n",
      "        -1.98632948e+00,  -1.95982213e+00,  -1.97925128e+00,\n",
      "        -2.17760699e+00,  -2.14331938e+00,  -2.04702746e+00,\n",
      "        -2.36798034e+00,  -2.18881717e+00,  -2.26200316e+00,\n",
      "        -2.43702273e+00,  -2.43340284e+00,  -2.34377005e+00,\n",
      "        -2.31686070e+00,  -2.48329197e+00,  -2.51190735e+00,\n",
      "        -2.37878233e+00,  -2.34586005e+00,  -2.57060456e+00,\n",
      "        -2.48497600e+00,  -2.53936778e+00,  -2.48466890e+00,\n",
      "        -2.62701853e+00,  -2.48780174e+00,  -2.64975032e+00,\n",
      "        -2.59853968e+00,  -2.70047501e+00,  -2.79050355e+00,\n",
      "        -2.65164389e+00,  -2.89636970e+00,  -2.58544264e+00,\n",
      "        -2.80929422e+00,  -2.79855596e+00,  -2.66755806e+00,\n",
      "        -2.99378473e+00,  -2.69929153e+00,  -2.98066677e+00,\n",
      "        -2.73647411e+00,  -2.74186539e+00,  -2.98870120e+00,\n",
      "        -2.91239808e+00,  -2.86085071e+00,  -3.01450611e+00,\n",
      "        -2.87442126e+00,  -2.76377939e+00]))\n"
     ]
    }
   ],
   "source": [
    "x = np.arange(-10, 10, 0.04)\n",
    "y = np.array(2-0.5*x+np.random.randn(len(x))/10)\n",
    "print (type(x), x)\n",
    "print (type(y), y)"
   ]
  },
  {
   "cell_type": "code",
   "execution_count": 31,
   "metadata": {
    "collapsed": true
   },
   "outputs": [],
   "source": [
    "from scipy import optimize"
   ]
  },
  {
   "cell_type": "code",
   "execution_count": 32,
   "metadata": {
    "collapsed": false
   },
   "outputs": [
    {
     "name": "stdout",
     "output_type": "stream",
     "text": [
      "4.98530525198\n"
     ]
    }
   ],
   "source": [
    "def f(kb):\n",
    "    sum = 0;\n",
    "    numLoops = len(x)\n",
    "    for i in range(0,numLoops-1):\n",
    "        sum += (y[i]-kb[0]*x[i]-kb[1])**2\n",
    "    return sum\n",
    "\n",
    "print (f([-0.5, 2]))"
   ]
  },
  {
   "cell_type": "code",
   "execution_count": 33,
   "metadata": {
    "collapsed": false
   },
   "outputs": [
    {
     "name": "stdout",
     "output_type": "stream",
     "text": [
      "[-0.50002678  1.99298171]\n"
     ]
    }
   ],
   "source": [
    "x_min = optimize.minimize(f, [0, 0])\n",
    "print (x_min.x)"
   ]
  },
  {
   "cell_type": "code",
   "execution_count": 34,
   "metadata": {
    "collapsed": true
   },
   "outputs": [],
   "source": [
    "%matplotlib inline\n",
    "\n",
    "from matplotlib import pylab as plt"
   ]
  },
  {
   "cell_type": "code",
   "execution_count": 35,
   "metadata": {
    "collapsed": false
   },
   "outputs": [
    {
     "data": {
      "image/png": "[encoded data removed]",
      "text/plain": [
       "<matplotlib.figure.Figure at 0x118a5bad0>"
      ]
     },
     "metadata": {},
     "output_type": "display_data"
    }
   ],
   "source": [
    "plt.plot(x, y, 'r')\n",
    "y_counted = x*x_min.x[0]+x_min.x[1]\n",
    "plt.plot(x, y_counted, 'b')\n",
    "y_real = x*(-0.5)+2\n",
    "plt.plot(x, y_real, 'y')\n",
    "plt.show()"
   ]
  },
  {
   "cell_type": "code",
   "execution_count": 36,
   "metadata": {
    "collapsed": false
   },
   "outputs": [
    {
     "name": "stdout",
     "output_type": "stream",
     "text": [
      "(550,)\n",
      "(50,)\n",
      "(550,)\n",
      "(50,)\n"
     ]
    },
    {
     "data": {
      "image/png": "[encoded data removed]",
      "text/plain": [
       "<matplotlib.figure.Figure at 0x11be8fe10>"
      ]
     },
     "metadata": {},
     "output_type": "display_data"
    }
   ],
   "source": [
    "add_array_x = np.arange(-10, 10, 0.4)\n",
    "x = np.hstack((x,add_array_x))\n",
    "add_array_y = np.array(2+np.random.randn(len(add_array_x))/10)\n",
    "y = np.hstack((y,add_array_y))\n",
    "print (x.shape)\n",
    "print (add_array_x.shape)\n",
    "print (y.shape)\n",
    "print (add_array_y.shape)\n",
    "plt.plot(x, y, 'o')\n",
    "plt.show()"
   ]
  },
  {
   "cell_type": "code",
   "execution_count": 37,
   "metadata": {
    "collapsed": false
   },
   "outputs": [
    {
     "name": "stdout",
     "output_type": "stream",
     "text": [
      "[-0.45687801  1.98012788]\n"
     ]
    }
   ],
   "source": [
    "x_min = optimize.minimize(f, [0, 0])\n",
    "print (x_min.x)"
   ]
  },
  {
   "cell_type": "code",
   "execution_count": 38,
   "metadata": {
    "collapsed": false
   },
   "outputs": [
    {
     "data": {
      "image/png": "[encoded data removed]",
      "text/plain": [
       "<matplotlib.figure.Figure at 0x118b14e50>"
      ]
     },
     "metadata": {},
     "output_type": "display_data"
    }
   ],
   "source": [
    "plt.plot(x, y, 'ro')\n",
    "y_counted = x*x_min.x[0]+x_min.x[1]\n",
    "plt.plot(x, y_counted, 'bo')\n",
    "y_real = x*(-0.5)+2\n",
    "plt.plot(x, y_real, 'yo')\n",
    "plt.show()"
   ]
  },
  {
   "cell_type": "code",
   "execution_count": 39,
   "metadata": {
    "collapsed": false
   },
   "outputs": [
    {
     "name": "stdout",
     "output_type": "stream",
     "text": [
      "397.127957246\n"
     ]
    }
   ],
   "source": [
    "def f_module(kb):\n",
    "    sum = 0;\n",
    "    numLoops = len(x)\n",
    "    for i in range(0,numLoops-1):\n",
    "        sum += abs(y[i]-kb[0]*x[i]-kb[1])\n",
    "    return sum\n",
    "\n",
    "print (f([-0.5, 2]))"
   ]
  },
  {
   "cell_type": "code",
   "execution_count": 40,
   "metadata": {
    "collapsed": false
   },
   "outputs": [
    {
     "name": "stdout",
     "output_type": "stream",
     "text": [
      "[-0.49661199  1.99294877]\n"
     ]
    }
   ],
   "source": [
    "x_min = optimize.minimize(f_module, [0, 0])\n",
    "print (x_min.x)"
   ]
  },
  {
   "cell_type": "code",
   "execution_count": 41,
   "metadata": {
    "collapsed": false
   },
   "outputs": [
    {
     "data": {
      "image/png": "[encoded data removed]",
      "text/plain": [
       "<matplotlib.figure.Figure at 0x11c088910>"
      ]
     },
     "metadata": {},
     "output_type": "display_data"
    }
   ],
   "source": [
    "plt.plot(x, y, 'ro')\n",
    "y_counted = x*x_min.x[0]+x_min.x[1]\n",
    "plt.plot(x, y_counted, 'bo')\n",
    "y_real = x*(-0.5)+2\n",
    "plt.plot(x, y_real, 'yo')\n",
    "plt.show()"
   ]
  },
  {
   "cell_type": "code",
   "execution_count": null,
   "metadata": {
    "collapsed": true
   },
   "outputs": [],
   "source": []
  }
 ],
 "metadata": {
  "kernelspec": {
   "display_name": "Python 2",
   "language": "python",
   "name": "python2"
  },
  "language_info": {
   "codemirror_mode": {
    "name": "ipython",
    "version": 2
   },
   "file_extension": ".py",
   "mimetype": "text/x-python",
   "name": "python",
   "nbconvert_exporter": "python",
   "pygments_lexer": "ipython2",
   "version": "2.7.13"
  }
 },
 "nbformat": 4,
 "nbformat_minor": 2
}
